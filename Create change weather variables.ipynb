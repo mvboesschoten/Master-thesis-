{
 "cells": [
  {
   "cell_type": "code",
   "execution_count": 1,
   "metadata": {},
   "outputs": [],
   "source": [
    "#import data\n",
    "\n",
    "import xlsxwriter\n",
    "import pandas as pd\n",
    "from pandas import DataFrame\n",
    "\n",
    "path = ('/Users/mathijsvanboesschoten/Documents/Efteling/weer_rijen.xlsx')\n",
    "data = pd.ExcelFile(path)\n"
   ]
  },
  {
   "cell_type": "code",
   "execution_count": 2,
   "metadata": {
    "scrolled": true
   },
   "outputs": [
    {
     "data": {
      "text/html": [
       "<div>\n",
       "<style scoped>\n",
       "    .dataframe tbody tr th:only-of-type {\n",
       "        vertical-align: middle;\n",
       "    }\n",
       "\n",
       "    .dataframe tbody tr th {\n",
       "        vertical-align: top;\n",
       "    }\n",
       "\n",
       "    .dataframe thead th {\n",
       "        text-align: right;\n",
       "    }\n",
       "</style>\n",
       "<table border=\"1\" class=\"dataframe\">\n",
       "  <thead>\n",
       "    <tr style=\"text-align: right;\">\n",
       "      <th></th>\n",
       "      <th># STN</th>\n",
       "      <th>YYYYMMDD</th>\n",
       "      <th>FG</th>\n",
       "      <th>TG</th>\n",
       "      <th>TX</th>\n",
       "      <th>DR</th>\n",
       "      <th>RH</th>\n",
       "      <th>RHX</th>\n",
       "      <th>RHXH</th>\n",
       "      <th>NG</th>\n",
       "      <th>UG</th>\n",
       "    </tr>\n",
       "  </thead>\n",
       "  <tbody>\n",
       "    <tr>\n",
       "      <th>0</th>\n",
       "      <td>350</td>\n",
       "      <td>19950101</td>\n",
       "      <td>51</td>\n",
       "      <td>18</td>\n",
       "      <td>36</td>\n",
       "      <td>35</td>\n",
       "      <td>35</td>\n",
       "      <td>7</td>\n",
       "      <td>12</td>\n",
       "      <td>5</td>\n",
       "      <td>89</td>\n",
       "    </tr>\n",
       "    <tr>\n",
       "      <th>1</th>\n",
       "      <td>350</td>\n",
       "      <td>19950102</td>\n",
       "      <td>51</td>\n",
       "      <td>26</td>\n",
       "      <td>54</td>\n",
       "      <td>39</td>\n",
       "      <td>46</td>\n",
       "      <td>14</td>\n",
       "      <td>6</td>\n",
       "      <td>5</td>\n",
       "      <td>85</td>\n",
       "    </tr>\n",
       "    <tr>\n",
       "      <th>2</th>\n",
       "      <td>350</td>\n",
       "      <td>19950103</td>\n",
       "      <td>15</td>\n",
       "      <td>-4</td>\n",
       "      <td>24</td>\n",
       "      <td>0</td>\n",
       "      <td>-1</td>\n",
       "      <td>-1</td>\n",
       "      <td>11</td>\n",
       "      <td>4</td>\n",
       "      <td>89</td>\n",
       "    </tr>\n",
       "    <tr>\n",
       "      <th>3</th>\n",
       "      <td>350</td>\n",
       "      <td>19950104</td>\n",
       "      <td>26</td>\n",
       "      <td>-38</td>\n",
       "      <td>3</td>\n",
       "      <td>0</td>\n",
       "      <td>0</td>\n",
       "      <td>0</td>\n",
       "      <td>1</td>\n",
       "      <td>0</td>\n",
       "      <td>93</td>\n",
       "    </tr>\n",
       "    <tr>\n",
       "      <th>4</th>\n",
       "      <td>350</td>\n",
       "      <td>19950105</td>\n",
       "      <td>46</td>\n",
       "      <td>-43</td>\n",
       "      <td>-15</td>\n",
       "      <td>0</td>\n",
       "      <td>-1</td>\n",
       "      <td>-1</td>\n",
       "      <td>24</td>\n",
       "      <td>4</td>\n",
       "      <td>74</td>\n",
       "    </tr>\n",
       "  </tbody>\n",
       "</table>\n",
       "</div>"
      ],
      "text/plain": [
       "   # STN  YYYYMMDD     FG     TG     TX     DR     RH    RHX   RHXH    NG  \\\n",
       "0    350  19950101     51     18     36     35     35      7     12     5   \n",
       "1    350  19950102     51     26     54     39     46     14      6     5   \n",
       "2    350  19950103     15     -4     24      0     -1     -1     11     4   \n",
       "3    350  19950104     26    -38      3      0      0      0      1     0   \n",
       "4    350  19950105     46    -43    -15      0     -1     -1     24     4   \n",
       "\n",
       "      UG  \n",
       "0     89  \n",
       "1     85  \n",
       "2     89  \n",
       "3     93  \n",
       "4     74  "
      ]
     },
     "execution_count": 2,
     "metadata": {},
     "output_type": "execute_result"
    }
   ],
   "source": [
    "df1 = data.parse('weer (28:mei)')\n",
    "\n",
    "# Drop rows with empty cells\n",
    "df1.dropna(axis=0, how='any', thresh=None, subset=None, inplace=False)\n",
    "df1.head()"
   ]
  },
  {
   "cell_type": "code",
   "execution_count": 3,
   "metadata": {},
   "outputs": [],
   "source": [
    "# add month column \n",
    "df1['YYYYMMDD'] = pd.to_datetime(df1['YYYYMMDD'], format='%Y%m%d')\n",
    "df1['month'] = df1['YYYYMMDD'].dt.month"
   ]
  },
  {
   "cell_type": "code",
   "execution_count": 4,
   "metadata": {},
   "outputs": [
    {
     "ename": "KeyError",
     "evalue": "\"None of [Index(['   FG', '   TG', '   TX', '   DR', '   RH', '  RHX'], dtype='object')] are in the [columns]\"",
     "output_type": "error",
     "traceback": [
      "\u001b[0;31m---------------------------------------------------------------------------\u001b[0m",
      "\u001b[0;31mKeyError\u001b[0m                                  Traceback (most recent call last)",
      "\u001b[0;32m<ipython-input-4-f19be948815c>\u001b[0m in \u001b[0;36m<module>\u001b[0;34m\u001b[0m\n\u001b[1;32m      3\u001b[0m \u001b[0;34m\u001b[0m\u001b[0m\n\u001b[1;32m      4\u001b[0m \u001b[0;31m#change values\u001b[0m\u001b[0;34m\u001b[0m\u001b[0;34m\u001b[0m\u001b[0;34m\u001b[0m\u001b[0m\n\u001b[0;32m----> 5\u001b[0;31m \u001b[0mdf1\u001b[0m\u001b[0;34m[\u001b[0m\u001b[0;34m[\u001b[0m\u001b[0;34m'   FG'\u001b[0m\u001b[0;34m,\u001b[0m\u001b[0;34m'   TG'\u001b[0m\u001b[0;34m,\u001b[0m\u001b[0;34m'   TX'\u001b[0m\u001b[0;34m,\u001b[0m\u001b[0;34m'   DR'\u001b[0m\u001b[0;34m,\u001b[0m\u001b[0;34m'   RH'\u001b[0m\u001b[0;34m,\u001b[0m\u001b[0;34m'  RHX'\u001b[0m\u001b[0;34m]\u001b[0m\u001b[0;34m]\u001b[0m \u001b[0;34m=\u001b[0m \u001b[0mdf1\u001b[0m\u001b[0;34m[\u001b[0m\u001b[0;34m[\u001b[0m\u001b[0;34m'   FG'\u001b[0m\u001b[0;34m,\u001b[0m\u001b[0;34m'   TG'\u001b[0m\u001b[0;34m,\u001b[0m\u001b[0;34m'   TX'\u001b[0m\u001b[0;34m,\u001b[0m\u001b[0;34m'   DR'\u001b[0m\u001b[0;34m,\u001b[0m\u001b[0;34m'   RH'\u001b[0m\u001b[0;34m,\u001b[0m\u001b[0;34m'  RHX'\u001b[0m\u001b[0;34m]\u001b[0m\u001b[0;34m]\u001b[0m\u001b[0;34m/\u001b[0m\u001b[0;36m10\u001b[0m\u001b[0;34m\u001b[0m\u001b[0;34m\u001b[0m\u001b[0m\n\u001b[0m",
      "\u001b[0;32m/usr/local/anaconda3/lib/python3.7/site-packages/pandas/core/frame.py\u001b[0m in \u001b[0;36m__getitem__\u001b[0;34m(self, key)\u001b[0m\n\u001b[1;32m   2932\u001b[0m                 \u001b[0mkey\u001b[0m \u001b[0;34m=\u001b[0m \u001b[0mlist\u001b[0m\u001b[0;34m(\u001b[0m\u001b[0mkey\u001b[0m\u001b[0;34m)\u001b[0m\u001b[0;34m\u001b[0m\u001b[0;34m\u001b[0m\u001b[0m\n\u001b[1;32m   2933\u001b[0m             indexer = self.loc._convert_to_indexer(key, axis=1,\n\u001b[0;32m-> 2934\u001b[0;31m                                                    raise_missing=True)\n\u001b[0m\u001b[1;32m   2935\u001b[0m \u001b[0;34m\u001b[0m\u001b[0m\n\u001b[1;32m   2936\u001b[0m         \u001b[0;31m# take() does not accept boolean indexers\u001b[0m\u001b[0;34m\u001b[0m\u001b[0;34m\u001b[0m\u001b[0;34m\u001b[0m\u001b[0m\n",
      "\u001b[0;32m/usr/local/anaconda3/lib/python3.7/site-packages/pandas/core/indexing.py\u001b[0m in \u001b[0;36m_convert_to_indexer\u001b[0;34m(self, obj, axis, is_setter, raise_missing)\u001b[0m\n\u001b[1;32m   1352\u001b[0m                 kwargs = {'raise_missing': True if is_setter else\n\u001b[1;32m   1353\u001b[0m                           raise_missing}\n\u001b[0;32m-> 1354\u001b[0;31m                 \u001b[0;32mreturn\u001b[0m \u001b[0mself\u001b[0m\u001b[0;34m.\u001b[0m\u001b[0m_get_listlike_indexer\u001b[0m\u001b[0;34m(\u001b[0m\u001b[0mobj\u001b[0m\u001b[0;34m,\u001b[0m \u001b[0maxis\u001b[0m\u001b[0;34m,\u001b[0m \u001b[0;34m**\u001b[0m\u001b[0mkwargs\u001b[0m\u001b[0;34m)\u001b[0m\u001b[0;34m[\u001b[0m\u001b[0;36m1\u001b[0m\u001b[0;34m]\u001b[0m\u001b[0;34m\u001b[0m\u001b[0;34m\u001b[0m\u001b[0m\n\u001b[0m\u001b[1;32m   1355\u001b[0m         \u001b[0;32melse\u001b[0m\u001b[0;34m:\u001b[0m\u001b[0;34m\u001b[0m\u001b[0;34m\u001b[0m\u001b[0m\n\u001b[1;32m   1356\u001b[0m             \u001b[0;32mtry\u001b[0m\u001b[0;34m:\u001b[0m\u001b[0;34m\u001b[0m\u001b[0;34m\u001b[0m\u001b[0m\n",
      "\u001b[0;32m/usr/local/anaconda3/lib/python3.7/site-packages/pandas/core/indexing.py\u001b[0m in \u001b[0;36m_get_listlike_indexer\u001b[0;34m(self, key, axis, raise_missing)\u001b[0m\n\u001b[1;32m   1159\u001b[0m         self._validate_read_indexer(keyarr, indexer,\n\u001b[1;32m   1160\u001b[0m                                     \u001b[0mo\u001b[0m\u001b[0;34m.\u001b[0m\u001b[0m_get_axis_number\u001b[0m\u001b[0;34m(\u001b[0m\u001b[0maxis\u001b[0m\u001b[0;34m)\u001b[0m\u001b[0;34m,\u001b[0m\u001b[0;34m\u001b[0m\u001b[0;34m\u001b[0m\u001b[0m\n\u001b[0;32m-> 1161\u001b[0;31m                                     raise_missing=raise_missing)\n\u001b[0m\u001b[1;32m   1162\u001b[0m         \u001b[0;32mreturn\u001b[0m \u001b[0mkeyarr\u001b[0m\u001b[0;34m,\u001b[0m \u001b[0mindexer\u001b[0m\u001b[0;34m\u001b[0m\u001b[0;34m\u001b[0m\u001b[0m\n\u001b[1;32m   1163\u001b[0m \u001b[0;34m\u001b[0m\u001b[0m\n",
      "\u001b[0;32m/usr/local/anaconda3/lib/python3.7/site-packages/pandas/core/indexing.py\u001b[0m in \u001b[0;36m_validate_read_indexer\u001b[0;34m(self, key, indexer, axis, raise_missing)\u001b[0m\n\u001b[1;32m   1244\u001b[0m                 raise KeyError(\n\u001b[1;32m   1245\u001b[0m                     u\"None of [{key}] are in the [{axis}]\".format(\n\u001b[0;32m-> 1246\u001b[0;31m                         key=key, axis=self.obj._get_axis_name(axis)))\n\u001b[0m\u001b[1;32m   1247\u001b[0m \u001b[0;34m\u001b[0m\u001b[0m\n\u001b[1;32m   1248\u001b[0m             \u001b[0;31m# We (temporarily) allow for some missing keys with .loc, except in\u001b[0m\u001b[0;34m\u001b[0m\u001b[0;34m\u001b[0m\u001b[0;34m\u001b[0m\u001b[0m\n",
      "\u001b[0;31mKeyError\u001b[0m: \"None of [Index(['   FG', '   TG', '   TX', '   DR', '   RH', '  RHX'], dtype='object')] are in the [columns]\""
     ]
    }
   ],
   "source": [
    "#rename columns\n",
    "df1 = df1.rename(index=str, columns={\"   FG\":\"avg_windspeed\",\"   TG\":\"avg_temp\",\"   TX\":\"max_temp\",\"   DR\":\"duur_neerslag\",\"   RH\":\"som_neerslag_mm\",\"  RHX\":\"hoogste_neerslag_in_uur\",\" RHXH\":\"uur_hoogste_neerslag\",\"   NG\":\"avg_bewolking\",\"   UG\":\"avg_percent_luchtvochtigheid\"})\n",
    "\n",
    "#change values\n",
    "df1[['   FG','   TG','   TX','   DR','   RH','  RHX']] = df1[['   FG','   TG','   TX','   DR','   RH','  RHX']]/10"
   ]
  },
  {
   "cell_type": "code",
   "execution_count": null,
   "metadata": {},
   "outputs": [],
   "source": [
    "df1.head()"
   ]
  },
  {
   "cell_type": "markdown",
   "metadata": {},
   "source": [
    "Get average weather information per month over the past 20 years"
   ]
  },
  {
   "cell_type": "code",
   "execution_count": null,
   "metadata": {},
   "outputs": [],
   "source": [
    "#group by month so we get average weather information over the past 20 years for each month\n",
    "mean_weather_per_day = df1.groupby(\"month\").mean()\n",
    "mean_weather_per_day.columns = ['avg_#STN','avg_FG','avg_TG','avg_TX','avg_DR','avg_RH','avg_RHX','avg_RHXH','avg_UG']"
   ]
  },
  {
   "cell_type": "code",
   "execution_count": null,
   "metadata": {},
   "outputs": [],
   "source": [
    "mean_weather_per_day.reset_index()"
   ]
  },
  {
   "cell_type": "code",
   "execution_count": null,
   "metadata": {},
   "outputs": [],
   "source": [
    "#add average weather information to existing dataframe\n",
    "df1_mean_weather = df1.merge(mean_weather_per_day, left_on='month', right_on='month')"
   ]
  },
  {
   "cell_type": "code",
   "execution_count": null,
   "metadata": {},
   "outputs": [],
   "source": [
    "#create variables; change in temperature, change in windspeed and change in precipitation\n",
    "df1_mean_weather['change_maxtemp'] = df1_mean_weather['max_temp'] - df1_mean_weather['avg_TX']\n",
    "df1_mean_weather['change_avg_temp'] = df1_mean_weather['avg_temp'] - df1_mean_weather['avg_TG']\n",
    "df1_mean_weather['change_avg_windspeed'] = df1_mean_weather['avg_windspeed'] - df1_mean_weather['avg_TX']\n",
    "df1_mean_weather['change_duur_neerslag'] = df1_mean_weather['duur_neerslag'] - df1_mean_weather['avg_DR']\n",
    "df1_mean_weather['change_som_neerslag_mm'] = df1_mean_weather['som_neerslag_mm'] - df1_mean_weather['avg_RH']\n",
    "\n",
    "# drop average columns per month\n",
    "df1_mean_weather = df1_mean_weather.drop(columns = ['month','# STN','avg_#STN', 'avg_FG','avg_TG', 'avg_TX', 'avg_DR', 'avg_RH', 'avg_RHX', 'avg_RHXH','avg_UG'])\n",
    "df1_mean_weather.head()"
   ]
  },
  {
   "cell_type": "markdown",
   "metadata": {},
   "source": [
    "## Write to excel"
   ]
  },
  {
   "cell_type": "code",
   "execution_count": null,
   "metadata": {},
   "outputs": [],
   "source": [
    "# # Create a Pandas Excel writer using XlsxWriter as the engine.\n",
    "# writer = pd.ExcelWriter('data_efteling_change_weather.xlsx', engine='xlsxwriter')\n",
    "\n",
    "# # Convert the dataframe to an XlsxWriter Excel object.\n",
    "# df1_mean_weather.to_excel(writer, sheet_name='data')\n",
    "\n",
    "# # Close the Pandas Excel writer and output the Excel file.\n",
    "# writer.save()"
   ]
  }
 ],
 "metadata": {
  "kernelspec": {
   "display_name": "Python 3",
   "language": "python",
   "name": "python3"
  },
  "language_info": {
   "codemirror_mode": {
    "name": "ipython",
    "version": 3
   },
   "file_extension": ".py",
   "mimetype": "text/x-python",
   "name": "python",
   "nbconvert_exporter": "python",
   "pygments_lexer": "ipython3",
   "version": "3.7.3"
  }
 },
 "nbformat": 4,
 "nbformat_minor": 2
}
