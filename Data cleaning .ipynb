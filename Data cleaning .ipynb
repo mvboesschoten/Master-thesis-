{
 "cells": [
  {
   "cell_type": "code",
   "execution_count": 1,
   "metadata": {},
   "outputs": [],
   "source": [
    "#import data\n",
    "\n",
    "import xlsxwriter\n",
    "import pandas as pd\n",
    "from pandas import DataFrame\n",
    "import numpy as np\n",
    "import matplotlib.pyplot as plt\n",
    "\n",
    "GTO = ('/Users/mathijsvanboesschoten/Documents/Efteling/data_email (nieuwste data Caro).xlsx')\n",
    "Selligent = ('/Users/mathijsvanboesschoten/Documents/Efteling/selligent_voor_GTO.xlsx')\n",
    "\n",
    "#import excel files\n",
    "data = pd.ExcelFile(GTO)\n",
    "data2 = pd.ExcelFile(Selligent)\n",
    "\n",
    "#parse excel files\n",
    "GTO = data.parse('tib5b7c8')\n",
    "Selligent = data2.parse('data')\n",
    "Selligent_extra = data2.parse('extra_data')"
   ]
  },
  {
   "cell_type": "code",
   "execution_count": 2,
   "metadata": {},
   "outputs": [
    {
     "name": "stdout",
     "output_type": "stream",
     "text": [
      "respondents before removal unfinished: 29353\n"
     ]
    }
   ],
   "source": [
    "print(\"respondents before removal unfinished:\",len(GTO))"
   ]
  },
  {
   "cell_type": "code",
   "execution_count": 3,
   "metadata": {},
   "outputs": [],
   "source": [
    "#rename columns\n",
    "GTO = GTO.rename(index=str, columns={\"No 16\": \"Abonnement?\",\"No 30\": \"Aantal_personen_bezoek\", \"No 32_1_1\": \"0-4 jaar\",\"No 32_2_1\":\"5-9 jaar\",\"No 32_3_1\": \"10-14 jaar\", \"No 32_4_1\": \"15-19 jaar\",\"No 32_5_1\":\"20-24 jaar\",\"No 32_6_1\": \"25-29 jaar\", \"No 32_7_1\": \"30-34 jaar\",\"No 32_8_1\":\"35-39 jaar\",\"No 32_9_1\": \"40-44 jaar\", \"No 32_10_1\": \"45-49 jaar\",\"No 32_11_1\":\"50-54 jaar\",\"No 32_12_1\": \"55-59 jaar\",\"No 32_13_1\":\"60-64 jaar\",\"No 32_14_1\":\"65-69 jaar\",\"No 32_15_1\": \"70+ jaar\",\"No 40\": \"cijfer bezoek\", \"No 41\": \"prijs/kwaliteit\",\"No 52_1\":\"cijfer attracties\",\"No 52_2\": \"cijfer parkshows\",\"No 52_3\": \"cijfer omgeving\", \"No 52_4\": \"cijfer sfeer\", \"No 52_5\": \"cijfer medewerkers\",\"No 52_6\":\"cijfer horeca\",\"No 52_7\": \"cijfer souvenirwinkels\",\"No 52_8\": \"cijfer gevoel van veiligheid\",\"No 52_9\": \"cijfer entertainmentacts\",\"No 37\": \"drukte perceptie\",\"No 38\":\"weer perceptie\"})"
   ]
  },
  {
   "cell_type": "code",
   "execution_count": 4,
   "metadata": {},
   "outputs": [],
   "source": [
    "# convert text to numbers\n",
    "categories_drukte = ['Heel rustig','Rustig','Niet rustig, niet druk', 'Druk', 'Heel druk']\n",
    "categories_weer = ['Heel slecht','Slecht','Niet goed, niet slecht', 'Goed', 'Heel goed']\n",
    "\n",
    "for categorie in categories_drukte:\n",
    "    GTO['drukte perceptie'] = GTO['drukte perceptie'].replace(categorie, (categories_drukte.index(categorie) + 1))\n",
    "\n",
    "for categorie in categories_weer:\n",
    "    GTO['weer perceptie'] = GTO['weer perceptie'].replace(categorie, (categories_weer.index(categorie) + 1))    \n",
    "    "
   ]
  },
  {
   "cell_type": "code",
   "execution_count": 5,
   "metadata": {},
   "outputs": [],
   "source": [
    "#Rename date columns\n",
    "GTO = GTO.rename(index=str, columns={\"Date Ended\": \"Date_ended\", \"Date Started\": \"Date_started\"})\n",
    "GTO = GTO.rename(index=str, columns={\"No 27\": \"year\", \"No 26\": \"month\",\"No 25\":\"day\"})"
   ]
  },
  {
   "cell_type": "markdown",
   "metadata": {},
   "source": [
    "#### drop all Nan's in date of visit questions:"
   ]
  },
  {
   "cell_type": "code",
   "execution_count": 6,
   "metadata": {},
   "outputs": [
    {
     "name": "stdout",
     "output_type": "stream",
     "text": [
      "now the number of respondents is: 21035\n"
     ]
    }
   ],
   "source": [
    "GTO = GTO[GTO.month != \"-\"]\n",
    "print(\"now the number of respondents is:\",len(GTO))"
   ]
  },
  {
   "cell_type": "markdown",
   "metadata": {},
   "source": [
    "### Clean wrongly entered dates"
   ]
  },
  {
   "cell_type": "code",
   "execution_count": 7,
   "metadata": {},
   "outputs": [],
   "source": [
    "#convert to datetime\n",
    "GTO['Status_date'] = GTO['Status_date'].dt.date\n",
    "\n",
    "# Covert months to numbers\n",
    "d = {'Januari':'01', 'Februari':'02', 'Maart':'03', 'April':'04', 'Mei':'05','Juni':'06', 'Juli':'07', 'Augustus':'08', 'September':'09', 'Oktober':'10', 'November':'11',\"December\":'12'}\n",
    "GTO['month'] = GTO.month.map(d)"
   ]
  },
  {
   "cell_type": "code",
   "execution_count": 8,
   "metadata": {},
   "outputs": [],
   "source": [
    "#Convert days to two digits \n",
    "GTO['day']=GTO['day'].apply(lambda x: '{0:0>2}'.format(x))"
   ]
  },
  {
   "cell_type": "code",
   "execution_count": 9,
   "metadata": {},
   "outputs": [],
   "source": [
    "# combine day month year to date, convert not existing dates to NaT (erros='coerce')\n",
    "GTO['date_visit'] = pd.to_datetime(GTO[['year', 'month', 'day']],format='%d-%m-%Y', errors='coerce').dt.date"
   ]
  },
  {
   "cell_type": "code",
   "execution_count": 10,
   "metadata": {},
   "outputs": [
    {
     "name": "stdout",
     "output_type": "stream",
     "text": [
      "number of unique dates 1462\n"
     ]
    }
   ],
   "source": [
    "#print amount of unique dates\n",
    "print(\"number of unique dates\",len(GTO['date_visit'].unique()))"
   ]
  },
  {
   "cell_type": "markdown",
   "metadata": {},
   "source": [
    "#### Drop the values with wrong data "
   ]
  },
  {
   "cell_type": "code",
   "execution_count": 11,
   "metadata": {},
   "outputs": [],
   "source": [
    "#drop values with wrong date (NaT values)\n",
    "GTO = GTO.dropna(subset=['date_visit'])"
   ]
  },
  {
   "cell_type": "code",
   "execution_count": 12,
   "metadata": {},
   "outputs": [
    {
     "name": "stdout",
     "output_type": "stream",
     "text": [
      "number respondents after cleaning for wrong dates (31 february etc): 21027\n"
     ]
    }
   ],
   "source": [
    "print(\"number respondents after cleaning for wrong dates (31 february etc):\", len(GTO['date_visit']))"
   ]
  },
  {
   "cell_type": "markdown",
   "metadata": {},
   "source": [
    "#### Compare date of visit with date of date of response\n"
   ]
  },
  {
   "cell_type": "code",
   "execution_count": 13,
   "metadata": {},
   "outputs": [
    {
     "data": {
      "text/plain": [
       "count    21027.000000\n",
       "mean         9.610453\n",
       "std         47.343560\n",
       "min      -1462.000000\n",
       "25%          1.000000\n",
       "50%          2.000000\n",
       "75%          6.000000\n",
       "max       1075.000000\n",
       "Name: Difference_date, dtype: float64"
      ]
     },
     "execution_count": 13,
     "metadata": {},
     "output_type": "execute_result"
    }
   ],
   "source": [
    "# create variable which shows difference between response and visit of Efteling\n",
    "GTO['Difference_date'] = GTO['Status_date'] - GTO['date_visit']\n",
    "\n",
    "#convert days to days\n",
    "GTO['Difference_date'] = GTO['Difference_date'].dt.days\n",
    "\n",
    "#show stattisics\n",
    "GTO['Difference_date'].describe()"
   ]
  },
  {
   "cell_type": "code",
   "execution_count": 14,
   "metadata": {},
   "outputs": [
    {
     "name": "stdout",
     "output_type": "stream",
     "text": [
      "Number of respondents after removal wrong dates: 20127\n"
     ]
    }
   ],
   "source": [
    "#remove wrong dates \n",
    "GTO = GTO[GTO.Difference_date >= 0]\n",
    "GTO = GTO[GTO.Difference_date <= 50]\n",
    "print(\"Number of respondents after removal wrong dates:\",len(GTO['Difference_date']))"
   ]
  },
  {
   "cell_type": "markdown",
   "metadata": {},
   "source": [
    "#### Rename columns"
   ]
  },
  {
   "cell_type": "code",
   "execution_count": 15,
   "metadata": {},
   "outputs": [],
   "source": [
    "GTO = GTO.rename(index=str, columns={\"No 16\": \"Abonnement?\",\"No 30\": \"Aantal_personen_bezoek\", \"No 32_1_1\": \"0-4 jaar\",\"No 32_2_1\":\"5-9 jaar\",\"No 32_3_1\": \"10-14 jaar\", \"No 32_4_1\": \"15-19 jaar\",\"No 32_5_1\":\"20-24 jaar\",\"No 32_6_1\": \"25-29 jaar\", \"No 32_7_1\": \"30-34 jaar\",\"No 32_8_1\":\"35-39 jaar\",\"No 32_9_1\": \"40-44 jaar\", \"No 32_10_1\": \"45-49 jaar\",\"No 32_11_1\":\"50-54 jaar\",\"No 32_12_1\": \"55-59 jaar\",\"No 32_13_1\":\"60-64 jaar\",\"No 32_14_1\":\"65-69 jaar\",\"No 32_15_1\": \"70+ jaar\",\"No 40\": \"cijfer bezoek\", \"No 41\": \"prijs/kwaliteit\",\"No 52_1\":\"cijfer attracties\",\"No 52_2\": \"cijfer parkshows\",\"No 52_3\": \"cijfer omgeving\", \"No 52_4\": \"cijfer sfeer\", \"No 52_5\": \"cijfer medewerkers\",\"No 52_6\":\"cijfer horeca\",\"No 52_7\": \"cijfer souvenirwinkels\",\"No 52_8\": \"cijfer gevoel van veiligheid\",\"No 52_9\": \"cijfer entertainmentacts\",\"No 37\": \"drukte perceptie\",\"No 38\":\"weer perceptie\"})"
   ]
  },
  {
   "cell_type": "code",
   "execution_count": 16,
   "metadata": {},
   "outputs": [],
   "source": [
    "#select used variables\n",
    "GTO_selection = GTO[['Password','Difference_date','Status_date','date_visit','No 18','month','year','Abonnement?','cijfer bezoek','prijs/kwaliteit','cijfer attracties','cijfer parkshows','cijfer omgeving','cijfer sfeer', 'cijfer medewerkers','cijfer horeca','cijfer souvenirwinkels','cijfer gevoel van veiligheid','cijfer entertainmentacts','drukte perceptie','weer perceptie']]"
   ]
  },
  {
   "cell_type": "markdown",
   "metadata": {},
   "source": [
    "#### Convert postal codes to province"
   ]
  },
  {
   "cell_type": "code",
   "execution_count": 17,
   "metadata": {},
   "outputs": [],
   "source": [
    "#convert postcode to number only\n",
    "GTO_selection['No 18'] = GTO_selection['No 18'].map(lambda x: ''.join([i for i in str(x) if i.isdigit()]))\n",
    "GTO_selection['No 18'] = pd.to_numeric(GTO_selection['No 18'])"
   ]
  },
  {
   "cell_type": "code",
   "execution_count": 18,
   "metadata": {},
   "outputs": [],
   "source": [
    "import numpy as np\n",
    "# convert postcodes to province (code converted from SPSS Syntax)\n",
    "GTO_selection['No 18'] = np.where(GTO_selection['No 18'].between(1000,1299), 8, GTO_selection['No 18'])\n",
    "GTO_selection['No 18'] = np.where(GTO_selection['No 18'].between(1300,1353), 7, GTO_selection['No 18'])\n",
    "GTO_selection['No 18'] = np.where(GTO_selection['No 18'].between(1354,2157), 8, GTO_selection['No 18'])\n",
    "GTO_selection['No 18'] = np.where(GTO_selection['No 18'].between(2159,3399), 9, GTO_selection['No 18'])\n",
    "GTO_selection['No 18'] = np.where(GTO_selection['No 18'].between(3400,3769), 6, GTO_selection['No 18'])\n",
    "GTO_selection['No 18'] = np.where(GTO_selection['No 18'].between(3770,3784), 5, GTO_selection['No 18'])\n",
    "GTO_selection['No 18'] = np.where(GTO_selection['No 18'].between(3790,3835), 6, GTO_selection['No 18'])\n",
    "GTO_selection['No 18'] = np.where(GTO_selection['No 18'].between(3840,3888), 5, GTO_selection['No 18'])\n",
    "GTO_selection['No 18'] = np.where(GTO_selection['No 18'].between(3890,3891), 7, GTO_selection['No 18'])\n",
    "GTO_selection['No 18'] = np.where(GTO_selection['No 18'].between(3892,3893), 7, GTO_selection['No 18'])\n",
    "GTO_selection['No 18'] = np.where(GTO_selection['No 18'].between(3900,3924), 6, GTO_selection['No 18'])\n",
    "GTO_selection['No 18'] = np.where(GTO_selection['No 18'].between(3925,3926), 5, GTO_selection['No 18'])\n",
    "GTO_selection['No 18'] = np.where(GTO_selection['No 18'].between(3927,3999), 6, GTO_selection['No 18'])\n",
    "GTO_selection['No 18'] = np.where(GTO_selection['No 18'].between(4000,4030), 5, GTO_selection['No 18'])\n",
    "GTO_selection['No 18'] = np.where(GTO_selection['No 18'].between(4031,4043), 9, GTO_selection['No 18'])\n",
    "GTO_selection['No 18'] = np.where(GTO_selection['No 18'].between(4044,4130), 5, GTO_selection['No 18'])\n",
    "GTO_selection['No 18'] = np.where(GTO_selection['No 18'].between(4131,4146), 9, GTO_selection['No 18'])\n",
    "GTO_selection['No 18'] = np.where(GTO_selection['No 18'].between(4147,4199), 5, GTO_selection['No 18'])\n",
    "GTO_selection['No 18'] = np.where(GTO_selection['No 18'].between(4200,4241), 9, GTO_selection['No 18'])\n",
    "GTO_selection['No 18'] = np.where(GTO_selection['No 18'].between(4247,4247), 9, GTO_selection['No 18'])\n",
    "GTO_selection['No 18'] = np.where(GTO_selection['No 18'].between(4250,4286), 11, GTO_selection['No 18'])\n",
    "GTO_selection['No 18'] = np.where(GTO_selection['No 18'].between(4300,4599), 10, GTO_selection['No 18'])\n",
    "GTO_selection['No 18'] = np.where(GTO_selection['No 18'].between(4600,4671), 11, GTO_selection['No 18'])\n",
    "GTO_selection['No 18'] = np.where(GTO_selection['No 18'].between(4675,4675), 6, GTO_selection['No 18'])\n",
    "GTO_selection['No 18'] = np.where(GTO_selection['No 18'].between(4680,4681), 11, GTO_selection['No 18'])\n",
    "GTO_selection['No 18'] = np.where(GTO_selection['No 18'].between(4690,4698), 10, GTO_selection['No 18'])\n",
    "GTO_selection['No 18'] = np.where(GTO_selection['No 18'].between(4700,5299), 11, GTO_selection['No 18'])\n",
    "GTO_selection['No 18'] = np.where(GTO_selection['No 18'].between(5300,5335), 5, GTO_selection['No 18'])\n",
    "GTO_selection['No 18'] = np.where(GTO_selection['No 18'].between(5340,5764), 11, GTO_selection['No 18'])\n",
    "GTO_selection['No 18'] = np.where(GTO_selection['No 18'].between(5766,5815), 12, GTO_selection['No 18'])\n",
    "GTO_selection['No 18'] = np.where(GTO_selection['No 18'].between(5820,5845), 11, GTO_selection['No 18'])\n",
    "GTO_selection['No 18'] = np.where(GTO_selection['No 18'].between(5850,6020), 12, GTO_selection['No 18'])\n",
    "GTO_selection['No 18'] = np.where(GTO_selection['No 18'].between(6021,6029), 11, GTO_selection['No 18'])\n",
    "GTO_selection['No 18'] = np.where(GTO_selection['No 18'].between(6030,6499), 12, GTO_selection['No 18'])\n",
    "GTO_selection['No 18'] = np.where(GTO_selection['No 18'].between(6500,6586), 5, GTO_selection['No 18'])\n",
    "GTO_selection['No 18'] = np.where(GTO_selection['No 18'].between(6587,6599), 12, GTO_selection['No 18'])\n",
    "GTO_selection['No 18'] = np.where(GTO_selection['No 18'].between(6600,7399), 5, GTO_selection['No 18'])\n",
    "GTO_selection['No 18'] = np.where(GTO_selection['No 18'].between(7400,7739), 4, GTO_selection['No 18'])\n",
    "GTO_selection['No 18'] = np.where(GTO_selection['No 18'].between(7740,7991), 3, GTO_selection['No 18'])\n",
    "GTO_selection['No 18'] = np.where(GTO_selection['No 18'].between(8000,8044), 4, GTO_selection['No 18'])\n",
    "GTO_selection['No 18'] = np.where(GTO_selection['No 18'].between(8050,8051), 5, GTO_selection['No 18'])\n",
    "GTO_selection['No 18'] = np.where(GTO_selection['No 18'].between(8061,8099), 5, GTO_selection['No 18'])\n",
    "GTO_selection['No 18'] = np.where(GTO_selection['No 18'].between(8100,8153), 4, GTO_selection['No 18'])\n",
    "GTO_selection['No 18'] = np.where(GTO_selection['No 18'].between(8160,8194), 5, GTO_selection['No 18'])\n",
    "GTO_selection['No 18'] = np.where(GTO_selection['No 18'].between(8196,8196), 4, GTO_selection['No 18'])\n",
    "GTO_selection['No 18'] = np.where(GTO_selection['No 18'].between(8198,8198), 4, GTO_selection['No 18'])\n",
    "GTO_selection['No 18'] = np.where(GTO_selection['No 18'].between(8200,8256), 7, GTO_selection['No 18'])\n",
    "GTO_selection['No 18'] = np.where(GTO_selection['No 18'].between(8260,8294), 4, GTO_selection['No 18'])\n",
    "GTO_selection['No 18'] = np.where(GTO_selection['No 18'].between(8300,8322), 7, GTO_selection['No 18'])\n",
    "GTO_selection['No 18'] = np.where(GTO_selection['No 18'].between(8325,8378), 4, GTO_selection['No 18'])\n",
    "GTO_selection['No 18'] = np.where(GTO_selection['No 18'].between(8380,8387), 3, GTO_selection['No 18'])\n",
    "GTO_selection['No 18'] = np.where(GTO_selection['No 18'].between(8390,9299), 2, GTO_selection['No 18'])\n",
    "GTO_selection['No 18'] = np.where(GTO_selection['No 18'].between(9300,9343), 3, GTO_selection['No 18'])\n",
    "GTO_selection['No 18'] = np.where(GTO_selection['No 18'].between(9350,9367), 1, GTO_selection['No 18'])\n",
    "GTO_selection['No 18'] = np.where(GTO_selection['No 18'].between(9400,9499), 3, GTO_selection['No 18'])\n",
    "GTO_selection['No 18'] = np.where(GTO_selection['No 18'].between(9500,9504), 1, GTO_selection['No 18'])\n",
    "GTO_selection['No 18'] = np.where(GTO_selection['No 18'].between(9510,9537), 3, GTO_selection['No 18'])\n",
    "GTO_selection['No 18'] = np.where(GTO_selection['No 18'].between(9540,9999), 1, GTO_selection['No 18'])\n",
    "GTO_selection['No 18'] = np.where(GTO_selection['No 18'].between(8052,8052), 2, GTO_selection['No 18'])\n",
    "\n",
    "#Rename column No 18\n",
    "GTO_selection = GTO_selection.rename(index=str, columns={\"No 18\": \"provincie\"})\n",
    "\n",
    "#rename numbers provinces\n",
    "GTO_selection['provincie'] = GTO_selection['provincie'].replace({1:'Groningen', 2:'Friesland', 3:'Drenthe', 4:'Overijssel',\n",
    "                                                                5:'Gelderland',6:'Utrecht', 7:'Flevoland', 8:'Noord-Holland', 9:'Zuid-Holland',\n",
    "                                                                10:'Zeeland',11:'Noord-Brabant', 12:'Limburg'})\n",
    "\n"
   ]
  },
  {
   "cell_type": "code",
   "execution_count": 19,
   "metadata": {},
   "outputs": [],
   "source": [
    "#change\"-\" & \"weet niet\" to NaN\n",
    "GTO_selection = GTO_selection.replace('-', np.NaN)\n",
    "GTO_selection = GTO_selection.replace('Weet niet / Geen mening', np.NaN)\n",
    "GTO_selection = GTO_selection.dropna(subset=['cijfer bezoek'])"
   ]
  },
  {
   "cell_type": "code",
   "execution_count": 20,
   "metadata": {},
   "outputs": [
    {
     "name": "stdout",
     "output_type": "stream",
     "text": [
      "Number observations after dropping no grade 20002\n"
     ]
    }
   ],
   "source": [
    "print(\"Number observations after dropping no grade\",len(GTO_selection))"
   ]
  },
  {
   "cell_type": "code",
   "execution_count": 21,
   "metadata": {},
   "outputs": [
    {
     "data": {
      "text/plain": [
       "Text(0.5, 0, 'Satisfaction grade')"
      ]
     },
     "execution_count": 21,
     "metadata": {},
     "output_type": "execute_result"
    },
    {
     "data": {
      "image/png": "[encoded data removed]",
      "text/plain": [
       "<Figure size 432x288 with 1 Axes>"
      ]
     },
     "metadata": {
      "needs_background": "light"
     },
     "output_type": "display_data"
    }
   ],
   "source": [
    "#plot frequency distribution (n=20.002)\n",
    "GTO_selection['cijfer bezoek'].hist(bins=20, color='k')\n",
    "plt.title(\"Frequency distribution of satisfaction grade\")\n",
    "plt.axes(projection=None)\n",
    "plt.ylabel('Frequency')\n",
    "plt.grid(b=None)\n",
    "plt.xlabel('Satisfaction grade')\n",
    "\n"
   ]
  },
  {
   "cell_type": "markdown",
   "metadata": {},
   "source": [
    "### Exclude subscription holders"
   ]
  },
  {
   "cell_type": "code",
   "execution_count": 22,
   "metadata": {},
   "outputs": [
    {
     "name": "stdout",
     "output_type": "stream",
     "text": [
      "Number observations excluding subscriptions 14937\n"
     ]
    }
   ],
   "source": [
    "GTO_selection = GTO_selection[GTO_selection['Abonnement?'] == \"Nee\"]\n",
    "print(\"Number observations excluding subscriptions\",len(GTO_selection))"
   ]
  },
  {
   "cell_type": "markdown",
   "metadata": {},
   "source": [
    "#### drukte perceptie en weer perceptie values veranderen naar nummers"
   ]
  },
  {
   "cell_type": "code",
   "execution_count": 23,
   "metadata": {},
   "outputs": [],
   "source": [
    "#convert text to numbers\n",
    "categories_drukte = ['Heel rustig','Rustig','Niet rustig, niet druk', 'Druk', 'Heel druk']\n",
    "categories_weer = ['Heel slecht','Slecht','Niet goed, niet slecht', 'Goed', 'Heel goed']\n",
    "\n",
    "for categorie in categories_drukte:\n",
    "    GTO_selection['drukte perceptie'] = GTO_selection['drukte perceptie'].replace(categorie, (categories_drukte.index(categorie) + 1))\n",
    "\n",
    "for categorie in categories_weer:\n",
    "    GTO_selection['weer perceptie'] = GTO_selection['weer perceptie'].replace(categorie, (categories_weer.index(categorie) + 1))    \n",
    "    "
   ]
  },
  {
   "cell_type": "markdown",
   "metadata": {},
   "source": [
    "### merge selligent data"
   ]
  },
  {
   "cell_type": "code",
   "execution_count": 24,
   "metadata": {},
   "outputs": [],
   "source": [
    "#merge type bezoekers aan data_needed\n",
    "new_file = GTO_selection.merge(Selligent, left_on='Password', right_on='UNIQUE_ID', how= 'left')\n",
    "extra_data = GTO_selection.merge(Selligent_extra, left_on='Password', right_on='UNIQUE_ID', how= 'left')"
   ]
  },
  {
   "cell_type": "code",
   "execution_count": 25,
   "metadata": {},
   "outputs": [],
   "source": [
    "#filter respondents age larger than 5\n",
    "older_respondents = new_file[new_file['AGE_respondent'] > 5]\n",
    "no_selligent = new_file[new_file['AGE_respondent'].isnull()]\n",
    "new_file = pd.concat([older_respondents, no_selligent])"
   ]
  },
  {
   "cell_type": "code",
   "execution_count": 26,
   "metadata": {},
   "outputs": [
    {
     "name": "stdout",
     "output_type": "stream",
     "text": [
      "Number of respondents with info Selligent: 4255\n",
      "Number of respondents without infoSelligent: 10668\n"
     ]
    }
   ],
   "source": [
    "print(\"Number of respondents with info Selligent:\",len(older_respondents))\n",
    "print(\"Number of respondents without infoSelligent:\",len(no_selligent))"
   ]
  },
  {
   "cell_type": "markdown",
   "metadata": {},
   "source": [
    "#### Write to Excel"
   ]
  },
  {
   "cell_type": "code",
   "execution_count": 27,
   "metadata": {},
   "outputs": [],
   "source": [
    "# # Create a Pandas Excel writer using XlsxWriter as the engine.\n",
    "# writer = pd.ExcelWriter('cleaned_data_GTO_NEW.xlsx', engine='xlsxwriter')\n",
    "\n",
    "# # Convert the dataframe to an XlsxWriter Excel object.\n",
    "# new_file.to_excel(writer, sheet_name='data')\n",
    "# extra_data.to_excel(writer, sheet_name='extra_data')\n",
    "# # Close the Pandas Excel writer and output the Excel file.\n",
    "# writer.save()\n"
   ]
  },
  {
   "cell_type": "code",
   "execution_count": null,
   "metadata": {},
   "outputs": [],
   "source": []
  }
 ],
 "metadata": {
  "kernelspec": {
   "display_name": "Python 3",
   "language": "python",
   "name": "python3"
  },
  "language_info": {
   "codemirror_mode": {
    "name": "ipython",
    "version": 3
   },
   "file_extension": ".py",
   "mimetype": "text/x-python",
   "name": "python",
   "nbconvert_exporter": "python",
   "pygments_lexer": "ipython3",
   "version": "3.7.3"
  }
 },
 "nbformat": 4,
 "nbformat_minor": 2
}
